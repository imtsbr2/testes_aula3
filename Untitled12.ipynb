{
  "nbformat": 4,
  "nbformat_minor": 0,
  "metadata": {
    "colab": {
      "provenance": [],
      "authorship_tag": "ABX9TyMEY8S+0dp/5VXt2fR9A717",
      "include_colab_link": true
    },
    "kernelspec": {
      "name": "python3",
      "display_name": "Python 3"
    },
    "language_info": {
      "name": "python"
    }
  },
  "cells": [
    {
      "cell_type": "markdown",
      "metadata": {
        "id": "view-in-github",
        "colab_type": "text"
      },
      "source": [
        "<a href=\"https://colab.research.google.com/github/imtsbr2/testes_aula3/blob/main/Untitled12.ipynb\" target=\"_parent\"><img src=\"https://colab.research.google.com/assets/colab-badge.svg\" alt=\"Open In Colab\"/></a>"
      ]
    },
    {
      "cell_type": "code",
      "execution_count": 22,
      "metadata": {
        "id": "yEElwwpyxNv-"
      },
      "outputs": [],
      "source": [
        "import pandas as pd\n",
        "\n",
        "# URLs dos arquivos CSV (certifique-se de que estão corretas)\n",
        "url_arquivo1 = 'https://raw.githubusercontent.com/seu-usuario/seu-repositorio/main/arquivo1.csv'\n",
        "url_arquivo2 = 'https://raw.githubusercontent.com/seu-usuario/seu-repositorio/main/arquivo2.csv'\n",
        "url_arquivo3 = 'https://raw.githubusercontent.com/seu-usuario/seu-repositorio/main/arquivo3.csv'\n",
        "\n",
        "# Carregar os arquivos CSV em DataFrames\n",
        "try:\n",
        "    df1 = pd.read_csv(url_arquivo1)\n",
        "    df2 = pd.read_csv(url_arquivo2)\n",
        "    df3 = pd.read_csv(url_arquivo3)\n",
        "except Exception as e:\n",
        "    print(f\"Erro ao carregar os arquivos: {e}\")\n",
        "\n",
        "# Função para amostrar dados com verificação de tamanho\n",
        "def safe_sample(df, n=1000, random_state=43):\n",
        "    if len(df) == 0:\n",
        "        print(\"O DataFrame está vazio.\")\n",
        "        return df\n",
        "    elif len(df) < n:\n",
        "        print(f\"DataFrame tem menos de {n} registros. Amostrando todos os {len(df)} registros.\")\n",
        "        return df.sample(n=len(df), random_state=random_state)\n",
        "    else:\n",
        "        return df.sample(n=n, random_state=random_state)\n",
        "\n",
        "# Gerar a amostra aleatória para cada DataFrame\n",
        "amostra1 = safe_sample(df1)\n",
        "amostra2 = safe_sample(df2)\n",
        "amostra3 = safe_sample(df3)\n",
        "\n",
        "# Exibir as primeiras linhas de cada amostra\n",
        "print(\"Amostra do Arquivo 1:\")\n",
        "print(amostra1.head())\n",
        "\n",
        "print(\"\\nAmostra do Arquivo 2:\")\n",
        "print(amostra2.head())\n",
        "\n",
        "print(\"\\nAmostra do Arquivo 3:\")\n",
        "print(amostra3.head())\n"
      ]
    },
    {
      "cell_type": "code",
      "source": [
        "#print(\"Informações Gerais - Base Principal\")\n",
        "print(df1.info())\n",
        "\n",
        "print(\"\\nResumo Estatístico - Base Principal\")\n",
        "print(df1.describe())\n",
        "\n"
      ],
      "metadata": {
        "id": "N1HQH-fNzRve"
      },
      "execution_count": 9,
      "outputs": []
    },
    {
      "cell_type": "code",
      "source": [
        "import matplotlib.pyplot as plt\n",
        "import seaborn as sns\n",
        "\n",
        "# Lista de colunas numéricas para análise\n",
        "colunas_numericas = [\n",
        "    'IP Address in URL',\n",
        "    '@ Symbol in URL',\n",
        "    'Length of URL',\n",
        "    'Depth of URL',\n",
        "    'Redirection \"//\" in URL',\n",
        "    'http/https in Domain name',\n",
        "    'Using URL Shortening Services',\n",
        "    'Prefix or Suffix \"-\" in Domain',\n",
        "    'DNS Record',\n",
        "    'Age of Domain'\n",
        "]\n",
        "\n",
        "for coluna in colunas_numericas:\n",
        "    if coluna in df1.columns:\n",
        "        plt.figure(figsize=(14, 6))\n",
        "\n",
        "        # Histograma\n",
        "        plt.subplot(1, 2, 1)\n",
        "        sns.histplot(df1[coluna], kde=True)\n",
        "        plt.title(f'Distribuição - {coluna}')\n",
        "\n",
        "        # Boxplot\n",
        "        plt.subplot(1, 2, 2)\n",
        "        sns.boxplot(x=df1[coluna])\n",
        "        plt.title(f'Boxplot - {coluna}')\n",
        "\n",
        "        plt.show()\n",
        "    else:\n",
        "        print(f\"A coluna '{coluna}' não existe em df1.\")\n"
      ],
      "metadata": {
        "id": "P0tg0BotxVp5"
      },
      "execution_count": 22,
      "outputs": []
    },
    {
      "cell_type": "code",
      "source": [
        "# Lista de palavras-chave associadas a phishing\n",
        "phishing_keywords = ['password', 'login', 'account', 'verify', 'urgent', 'alert']\n",
        "\n",
        "# Função para contar palavras-chave em cada DataFrame\n",
        "def count_phishing_keywords(df, keywords):\n",
        "    count = 0\n",
        "    for keyword in keywords:\n",
        "        count += df.apply(lambda row: row.astype(str).str.contains(keyword, case=False).sum(), axis=1).sum()\n",
        "    return count\n",
        "\n",
        "# Contagem de palavras-chave em df2 e df3\n",
        "phishing_count_df2 = count_phishing_keywords(df2, phishing_keywords)\n",
        "phishing_count_df3 = count_phishing_keywords(df3, phishing_keywords)\n",
        "\n",
        "print(f\"Contagem de palavras-chave de phishing na Base 2: {phishing_count_df2}\")\n",
        "print(f\"Contagem de palavras-chave de phishing na Base 3: {phishing_count_df3}\")"
      ],
      "metadata": {
        "colab": {
          "base_uri": "https://localhost:8080/"
        },
        "id": "fHs7uwAKzQJX",
        "outputId": "16ab9a6b-d22e-49e2-88b7-39c7d1bd852d"
      },
      "execution_count": 23,
      "outputs": [
        {
          "output_type": "stream",
          "name": "stdout",
          "text": [
            "Contagem de palavras-chave de phishing na Base 2: 11\n",
            "Contagem de palavras-chave de phishing na Base 3: 317\n"
          ]
        }
      ]
    },
    {
      "cell_type": "code",
      "source": [
        "# Verificar URLs encurtadas\n",
        "def count_shortened_urls(df):\n",
        "    return df['urls'].str.contains('bit.ly|tinyurl|shorturl', case=False, na=False).sum()\n",
        "\n",
        "# Contagem de URLs encurtadas em df2 e df3\n",
        "shortened_urls_df2 = count_shortened_urls(df2)\n",
        "shortened_urls_df3 = count_shortened_urls(df3)\n",
        "\n",
        "print(f\"Contagem de URLs encurtadas na Base 2: {shortened_urls_df2}\")\n",
        "print(f\"Contagem de URLs encurtadas na Base 3: {shortened_urls_df3}\")"
      ],
      "metadata": {
        "colab": {
          "base_uri": "https://localhost:8080/"
        },
        "id": "m8jiXO_b378b",
        "outputId": "e9ff1081-1eb1-47f3-dd28-a29cea513a5a"
      },
      "execution_count": 24,
      "outputs": [
        {
          "output_type": "stream",
          "name": "stdout",
          "text": [
            "Contagem de URLs encurtadas na Base 2: 0\n",
            "Contagem de URLs encurtadas na Base 3: 110\n"
          ]
        }
      ]
    },
    {
      "cell_type": "code",
      "source": [
        "# Palavras-chave associadas a phishing\n",
        "phishing_keywords = ['password', 'login', 'account', 'verify', 'urgent', 'alert']\n",
        "\n",
        "# Função para contar palavras-chave em cada DataFrame\n",
        "def count_phishing_keywords(df, keywords):\n",
        "    count = 0\n",
        "    for keyword in keywords:\n",
        "        count += df.apply(lambda row: row.astype(str).str.contains(keyword, case=False).sum(), axis=1).sum()\n",
        "    return count\n",
        "\n",
        "# Contagem de palavras-chave de phishing em df2 e df3\n",
        "phishing_count_df2 = count_phishing_keywords(df2, phishing_keywords)\n",
        "phishing_count_df3 = count_phishing_keywords(df3, phishing_keywords)\n",
        "\n",
        "# Contagem de URLs encurtadas\n",
        "def count_shortened_urls(df):\n",
        "    return df['urls'].str.contains('bit.ly|tinyurl|shorturl', case=False, na=False).sum()\n",
        "\n",
        "# Contagem de URLs encurtadas em df2 e df3\n",
        "shortened_urls_df2 = count_shortened_urls(df2)\n",
        "shortened_urls_df3 = count_shortened_urls(df3)\n",
        "\n",
        "# Contagem de domínios suspeitos\n",
        "def count_suspect_domains(df):\n",
        "    suspect_domains = df['Domain'].str.contains('\\d{1,3}\\.\\d{1,3}\\.\\d{1,3}\\.\\d{1,3}', case=False, na=False)  # IPs em domínios\n",
        "    return suspect_domains.sum()\n",
        "\n",
        "# Contagem de domínios suspeitos em df2 e df3\n",
        "suspect_domains_df2 = count_suspect_domains(df2)\n",
        "suspect_domains_df3 = count_suspect_domains(df3)\n",
        "\n",
        "# Resultados\n",
        "print(f\"Contagem de palavras-chave de phishing na Base 2: {phishing_count_df2}\")\n",
        "print(f\"Contagem de palavras-chave de phishing na Base 3: {phishing_count_df3}\")\n",
        "\n",
        "print(f\"Contagem de URLs encurtadas na Base 2: {shortened_urls_df2}\")\n",
        "print(f\"Contagem de URLs encurtadas na Base 3: {shortened_urls_df3}\")\n",
        "\n",
        "print(f\"Contagem de domínios suspeitos na Base 2: {suspect_domains_df2}\")\n",
        "print(f\"Contagem de domínios suspeitos na Base 3: {suspect_domains_df3}\")"
      ],
      "metadata": {
        "colab": {
          "base_uri": "https://localhost:8080/"
        },
        "id": "BWD73lkS3_J6",
        "outputId": "95c10f2c-f40c-4361-fd6a-8bf2bf987a9d"
      },
      "execution_count": 25,
      "outputs": [
        {
          "output_type": "stream",
          "name": "stdout",
          "text": [
            "Contagem de palavras-chave de phishing na Base 2: 11\n",
            "Contagem de palavras-chave de phishing na Base 3: 317\n",
            "Contagem de URLs encurtadas na Base 2: 0\n",
            "Contagem de URLs encurtadas na Base 3: 110\n",
            "Contagem de domínios suspeitos na Base 2: 0\n",
            "Contagem de domínios suspeitos na Base 3: 24\n"
          ]
        }
      ]
    }
  ]
}